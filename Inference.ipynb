{
  "cells": [
    {
      "cell_type": "code",
      "execution_count": null,
      "metadata": {
        "id": "FR8AyHfOlvbU"
      },
      "outputs": [],
      "source": [
        "import pandas as pd\n",
        "import re\n",
        "import string\n",
        "import tensorflow as tf\n",
        "import keras\n",
        "from keras.optimizers import *\n",
        "from keras import regularizers\n",
        "from keras.callbacks import ModelCheckpoint, ReduceLROnPlateau, TensorBoard, EarlyStopping\n",
        "import numpy as np\n",
        "from sklearn.metrics import accuracy_score, precision_score, recall_score, f1_score\n",
        "from sklearn.feature_extraction.text import TfidfVectorizer\n",
        "from sklearn.model_selection import train_test_split\n",
        "from sklearn.metrics import mean_squared_error\n",
        "from sklearn.metrics import classification_report\n"
      ]
    },
    {
      "cell_type": "code",
      "execution_count": null,
      "metadata": {
        "id": "Zyj6RpS9ocCY"
      },
      "outputs": [],
      "source": [
        "def load_model(model_path):\n",
        "    return keras.models.load_model(model_path)"
      ]
    },
    {
      "cell_type": "code",
      "execution_count": null,
      "metadata": {
        "id": "JN-9kpj5pFZY"
      },
      "outputs": [],
      "source": [
        "def preprocess_data(dataFrame):\n",
        "    df = dataFrame[['keyword','tweet','disaster']]\n",
        "    df.dropna(subset=[\"keyword\"], inplace=True)\n",
        "    def cleaning_URLs(data):\n",
        "      return re.sub('((www.[^s]+)|(https?://[^s]+))',' ',data)\n",
        "    df['tweet'] = df['tweet'].apply(lambda x: cleaning_URLs(x))\n",
        "    def remove_username(data):\n",
        "      temp = [re.sub('@[^\\s]+','',data)]\n",
        "      return temp[0]\n",
        "    df['tweet'] = df['tweet'].apply(lambda x: remove_username(x))\n",
        "    def remove_hashes(data):\n",
        "      temp = [re.sub('#','',data)]\n",
        "      return temp[0]\n",
        "    df['tweet'] = df['tweet'].apply(lambda x: remove_hashes(x))\n",
        "    df['tweet'] = df['tweet'].str.lower()\n",
        "    english_punctuations = string.punctuation\n",
        "    punctuations_list = english_punctuations\n",
        "    def cleaning_punctuations(text):\n",
        "      translator = str.maketrans('', '', punctuations_list)\n",
        "      return text.translate(translator)\n",
        "    df['tweet']= df['tweet'].apply(lambda x: cleaning_punctuations(x))\n",
        "    def remove_weird(x):\n",
        "      cleaned_text = [re.sub(r'[^\\x00-\\x7F]+', '', x)]\n",
        "      return cleaned_text[0]\n",
        "    df['tweet']= df['tweet'].apply(lambda x: remove_weird(x))\n",
        "\n",
        "    X = df['tweet']\n",
        "    y = df['disaster'].astype(int)\n",
        "    # Tokenize the text\n",
        "    tokenizer = tf.keras.preprocessing.text.Tokenizer()\n",
        "    tokenizer.fit_on_texts(X)\n",
        "\n",
        "    # Convert text to sequences of integers\n",
        "    X_sequences = tokenizer.texts_to_sequences(X)\n",
        "\n",
        "\n",
        "    max_length = max(map(len, X_sequences))\n",
        "    X_padded = tf.keras.preprocessing.sequence.pad_sequences(X_sequences,maxlen=max_length, padding='post')\n",
        "\n",
        "    return X_padded, y"
      ]
    },
    {
      "cell_type": "code",
      "execution_count": null,
      "metadata": {
        "id": "v9TdvMLCtZfK"
      },
      "outputs": [],
      "source": [
        "def preprocess_and_predict(model_path, testing_data):\n",
        "    X_test_scaled, _ = preprocess_data(testing_data)  # Ignoring the y part, as we're only scaling X here\n",
        "\n",
        "    loaded_model = load_model(model_path)\n",
        "\n",
        "    # Make predictions using the loaded model\n",
        "    predictions = loaded_model.predict(X_test_scaled)\n",
        "\n",
        "    return predictions"
      ]
    },
    {
      "cell_type": "code",
      "execution_count": null,
      "metadata": {
        "id": "B_ivO7sIuGjh"
      },
      "outputs": [],
      "source": [
        "def evaluate_model(model_path, testing_data):\n",
        "    # Preprocessing the data to separate features and target\n",
        "    X_test, y_test = preprocess_data(testing_data)  # Here we need both features and target\n",
        "\n",
        "    # Call the preprocess_and_predict function\n",
        "    predictions = preprocess_and_predict(model_path, testing_data)\n",
        "\n",
        "    # Calculate the error between true values and predicted values\n",
        "    error = mean_squared_error(y_test, predictions)\n",
        "    predicted_classes = np.where(predictions > 0.5, 1, 0)\n",
        "    accuracy = accuracy_score(y_test, predicted_classes)\n",
        "    print(classification_report(y_test, predicted_classes))\n",
        "    # Print the error\n",
        "    print(f'Mean Squared Error: {error}')\n",
        "    print(f'accuracy: {accuracy}')"
      ]
    },
    {
      "cell_type": "code",
      "execution_count": null,
      "metadata": {
        "colab": {
          "base_uri": "https://localhost:8080/"
        },
        "id": "pHexBcAMuOcl",
        "outputId": "a1286c10-f269-4d5d-8eb4-6fc9b5d1e089"
      },
      "outputs": [
        {
          "name": "stderr",
          "output_type": "stream",
          "text": [
            "<ipython-input-4-79de47489c1b>:3: SettingWithCopyWarning: \n",
            "A value is trying to be set on a copy of a slice from a DataFrame\n",
            "\n",
            "See the caveats in the documentation: https://pandas.pydata.org/pandas-docs/stable/user_guide/indexing.html#returning-a-view-versus-a-copy\n",
            "  df.dropna(subset=[\"keyword\"], inplace=True)\n",
            "<ipython-input-4-79de47489c1b>:6: SettingWithCopyWarning: \n",
            "A value is trying to be set on a copy of a slice from a DataFrame.\n",
            "Try using .loc[row_indexer,col_indexer] = value instead\n",
            "\n",
            "See the caveats in the documentation: https://pandas.pydata.org/pandas-docs/stable/user_guide/indexing.html#returning-a-view-versus-a-copy\n",
            "  df['tweet'] = df['tweet'].apply(lambda x: cleaning_URLs(x))\n",
            "<ipython-input-4-79de47489c1b>:10: SettingWithCopyWarning: \n",
            "A value is trying to be set on a copy of a slice from a DataFrame.\n",
            "Try using .loc[row_indexer,col_indexer] = value instead\n",
            "\n",
            "See the caveats in the documentation: https://pandas.pydata.org/pandas-docs/stable/user_guide/indexing.html#returning-a-view-versus-a-copy\n",
            "  df['tweet'] = df['tweet'].apply(lambda x: remove_username(x))\n",
            "<ipython-input-4-79de47489c1b>:14: SettingWithCopyWarning: \n",
            "A value is trying to be set on a copy of a slice from a DataFrame.\n",
            "Try using .loc[row_indexer,col_indexer] = value instead\n",
            "\n",
            "See the caveats in the documentation: https://pandas.pydata.org/pandas-docs/stable/user_guide/indexing.html#returning-a-view-versus-a-copy\n",
            "  df['tweet'] = df['tweet'].apply(lambda x: remove_hashes(x))\n",
            "<ipython-input-4-79de47489c1b>:15: SettingWithCopyWarning: \n",
            "A value is trying to be set on a copy of a slice from a DataFrame.\n",
            "Try using .loc[row_indexer,col_indexer] = value instead\n",
            "\n",
            "See the caveats in the documentation: https://pandas.pydata.org/pandas-docs/stable/user_guide/indexing.html#returning-a-view-versus-a-copy\n",
            "  df['tweet'] = df['tweet'].str.lower()\n",
            "<ipython-input-4-79de47489c1b>:21: SettingWithCopyWarning: \n",
            "A value is trying to be set on a copy of a slice from a DataFrame.\n",
            "Try using .loc[row_indexer,col_indexer] = value instead\n",
            "\n",
            "See the caveats in the documentation: https://pandas.pydata.org/pandas-docs/stable/user_guide/indexing.html#returning-a-view-versus-a-copy\n",
            "  df['tweet']= df['tweet'].apply(lambda x: cleaning_punctuations(x))\n",
            "<ipython-input-4-79de47489c1b>:25: SettingWithCopyWarning: \n",
            "A value is trying to be set on a copy of a slice from a DataFrame.\n",
            "Try using .loc[row_indexer,col_indexer] = value instead\n",
            "\n",
            "See the caveats in the documentation: https://pandas.pydata.org/pandas-docs/stable/user_guide/indexing.html#returning-a-view-versus-a-copy\n",
            "  df['tweet']= df['tweet'].apply(lambda x: remove_weird(x))\n",
            "<ipython-input-4-79de47489c1b>:3: SettingWithCopyWarning: \n",
            "A value is trying to be set on a copy of a slice from a DataFrame\n",
            "\n",
            "See the caveats in the documentation: https://pandas.pydata.org/pandas-docs/stable/user_guide/indexing.html#returning-a-view-versus-a-copy\n",
            "  df.dropna(subset=[\"keyword\"], inplace=True)\n",
            "<ipython-input-4-79de47489c1b>:6: SettingWithCopyWarning: \n",
            "A value is trying to be set on a copy of a slice from a DataFrame.\n",
            "Try using .loc[row_indexer,col_indexer] = value instead\n",
            "\n",
            "See the caveats in the documentation: https://pandas.pydata.org/pandas-docs/stable/user_guide/indexing.html#returning-a-view-versus-a-copy\n",
            "  df['tweet'] = df['tweet'].apply(lambda x: cleaning_URLs(x))\n",
            "<ipython-input-4-79de47489c1b>:10: SettingWithCopyWarning: \n",
            "A value is trying to be set on a copy of a slice from a DataFrame.\n",
            "Try using .loc[row_indexer,col_indexer] = value instead\n",
            "\n",
            "See the caveats in the documentation: https://pandas.pydata.org/pandas-docs/stable/user_guide/indexing.html#returning-a-view-versus-a-copy\n",
            "  df['tweet'] = df['tweet'].apply(lambda x: remove_username(x))\n",
            "<ipython-input-4-79de47489c1b>:14: SettingWithCopyWarning: \n",
            "A value is trying to be set on a copy of a slice from a DataFrame.\n",
            "Try using .loc[row_indexer,col_indexer] = value instead\n",
            "\n",
            "See the caveats in the documentation: https://pandas.pydata.org/pandas-docs/stable/user_guide/indexing.html#returning-a-view-versus-a-copy\n",
            "  df['tweet'] = df['tweet'].apply(lambda x: remove_hashes(x))\n",
            "<ipython-input-4-79de47489c1b>:15: SettingWithCopyWarning: \n",
            "A value is trying to be set on a copy of a slice from a DataFrame.\n",
            "Try using .loc[row_indexer,col_indexer] = value instead\n",
            "\n",
            "See the caveats in the documentation: https://pandas.pydata.org/pandas-docs/stable/user_guide/indexing.html#returning-a-view-versus-a-copy\n",
            "  df['tweet'] = df['tweet'].str.lower()\n",
            "<ipython-input-4-79de47489c1b>:21: SettingWithCopyWarning: \n",
            "A value is trying to be set on a copy of a slice from a DataFrame.\n",
            "Try using .loc[row_indexer,col_indexer] = value instead\n",
            "\n",
            "See the caveats in the documentation: https://pandas.pydata.org/pandas-docs/stable/user_guide/indexing.html#returning-a-view-versus-a-copy\n",
            "  df['tweet']= df['tweet'].apply(lambda x: cleaning_punctuations(x))\n",
            "<ipython-input-4-79de47489c1b>:25: SettingWithCopyWarning: \n",
            "A value is trying to be set on a copy of a slice from a DataFrame.\n",
            "Try using .loc[row_indexer,col_indexer] = value instead\n",
            "\n",
            "See the caveats in the documentation: https://pandas.pydata.org/pandas-docs/stable/user_guide/indexing.html#returning-a-view-versus-a-copy\n",
            "  df['tweet']= df['tweet'].apply(lambda x: remove_weird(x))\n"
          ]
        },
        {
          "name": "stdout",
          "output_type": "stream",
          "text": [
            "236/236 [==============================] - 1s 3ms/step\n",
            "              precision    recall  f1-score   support\n",
            "\n",
            "           0       0.91      0.96      0.93      4323\n",
            "           1       0.94      0.87      0.90      3229\n",
            "\n",
            "    accuracy                           0.92      7552\n",
            "   macro avg       0.92      0.91      0.91      7552\n",
            "weighted avg       0.92      0.92      0.92      7552\n",
            "\n",
            "Mean Squared Error: 0.09771656256252172\n",
            "accuracy: 0.9175052966101694\n"
          ]
        }
      ],
      "source": [
        "if __name__ == \"__main__\":\n",
        "    # Load your testing dataset\n",
        "    # data = pd.read_csv('path_to_your_wine_quality_dataset.csv')\n",
        "    # model_path = 'path_to_your_saved_model.pkl'\n",
        "    # evaluate_model(model_path, data)\n",
        "\n",
        "    data = pd.read_csv('/content/test.csv')\n",
        "    model_path = '/content/Weightsnew.keras'\n",
        "    evaluate_model(model_path, data)\n",
        "\n"
      ]
    }
  ],
  "metadata": {
    "colab": {
      "provenance": []
    },
    "kernelspec": {
      "display_name": "Python 3",
      "name": "python3"
    },
    "language_info": {
      "name": "python"
    }
  },
  "nbformat": 4,
  "nbformat_minor": 0
}
